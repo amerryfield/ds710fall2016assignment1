# -*- coding: utf-8 -*-
"""
Spyder Editor

This is a temporary script file.
"""

#This cell is a code cell.  Pressing shift-enter or using the "Run Cell" button will evaluate the code in this cell.
#The "Run Cell" button looks like a little black triangle.
#Run the code in this cell.
print("hello world")

#create a variable named a, and store the value 3+1 in it
a = 3+1

#display a
print(a)

#you can combine multiple objects in the same print statement

print("three plus one is", a)



#Note that the usual Python convention is to separate words in variable names using underscores

first_name = "Alexander"
last_name = "Merryfield"
print(first_name,last_name)

#We can use the tab or "\t" and newline or "\n" characters to format our output.
#Adjust the output below so that your first and last name appear in the appropriate column.

print("Given Name","\t","Surname","\n",first_name,"\t",last_name)



#We can also combine strings using the + operator.
#Adjust the output below so that it includes a space between your first and last name.
print(first_name+" "+last_name)

#Find a function that will convert your given name to uppercase.
first_name.upper()
